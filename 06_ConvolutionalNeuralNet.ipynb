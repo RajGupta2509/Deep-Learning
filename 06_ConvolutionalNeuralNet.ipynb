{
  "cells": [
    {
      "cell_type": "markdown",
      "metadata": {
        "id": "pHnvtaqDrqnu"
      },
      "source": [
        "# Classifying Images with Deep Convolutional Neural Networks"
      ]
    },
    {
      "cell_type": "code",
      "execution_count": 1,
      "metadata": {
        "id": "8BnPiQRTrqnw"
      },
      "outputs": [],
      "source": [
        "%matplotlib inline"
      ]
    },
    {
      "cell_type": "markdown",
      "metadata": {
        "id": "LySkjqNIrqnw"
      },
      "source": [
        "##  The building blocks of convolutional neural networks\n",
        "CNNs are a family of models that were originally inspired by how the visual cortex of the human\n",
        "brain works when recognizing objects.\n",
        "\n",
        "\n"
      ]
    },
    {
      "cell_type": "markdown",
      "metadata": {
        "id": "evJj9gJdrqnx"
      },
      "source": [
        "\n",
        "\n",
        "### Performing discrete convolutions\n",
        "\n",
        "### Discrete convolutions in one dimension\n",
        "\n"
      ]
    },
    {
      "cell_type": "markdown",
      "source": [
        "### Padding inputs to control the size of the output feature maps\n",
        "There are three modes of padding that are commonly used in practice: full, same, and valid.\n",
        "\n",
        "1. In `full mode`, the padding parameter, p, is set to `p = m-1` (m is the size of the filter).\n",
        "Full padding increases the dimensions of the output; thus, it is rarely used in CNN architectures.\n",
        "\n",
        "2. The `same padding mode` is usually used to ensure that the `output vector has the same size as the input\n",
        "vector`, x. In this case, the padding parameter, p, is computed according to the filter size, along with\n",
        "the requirement that the input size and output size are the same.\n",
        "\n",
        "3. Finally, computing a convolution in `valid mode` refers to the case where `p = 0` (no padding)."
      ],
      "metadata": {
        "id": "kBiwF_8EKwZR"
      }
    },
    {
      "cell_type": "markdown",
      "metadata": {
        "id": "yME1Clfvrqnx"
      },
      "source": [
        "### Determining the size of the convolution output\n",
        "\n",
        "the spatial dimension of the output feature map is calculated by:\n",
        "\n",
        "$$ O = [ (n+2p-m) / s ] + 1 $$\n",
        "here `[.]` => denotes `Greatest Integer` function\n",
        "\n",
        "where n is the spatial dimension of the input feature map, and p, m, and s denote the padding, kernel\n",
        "size, and stride, respectively."
      ]
    },
    {
      "cell_type": "code",
      "execution_count": 2,
      "metadata": {
        "id": "SVkrwCS4rqnx",
        "outputId": "b3b2757a-ff6a-4e57-ddfa-3397c4ed1e8b",
        "colab": {
          "base_uri": "https://localhost:8080/"
        }
      },
      "outputs": [
        {
          "output_type": "stream",
          "name": "stdout",
          "text": [
            "PyTorch version: 2.6.0+cu124\n",
            "NumPy version:  2.0.2\n"
          ]
        }
      ],
      "source": [
        "import torch\n",
        "import numpy as np\n",
        "\n",
        "print('PyTorch version:', torch.__version__)\n",
        "print('NumPy version: ', np.__version__)"
      ]
    },
    {
      "cell_type": "code",
      "execution_count": 3,
      "metadata": {
        "id": "PfRZ4YlSrqnx",
        "outputId": "cb1f082f-20a5-4016-cb61-b41a65dcba9a",
        "colab": {
          "base_uri": "https://localhost:8080/"
        }
      },
      "outputs": [
        {
          "output_type": "stream",
          "name": "stdout",
          "text": [
            "Conv1d Implementation: [ 5. 14. 16. 26. 24. 34. 19. 22.]\n",
            "Numpy Results: [ 5 14 16 26 24 34 19 22]\n"
          ]
        }
      ],
      "source": [
        "def conv1d(x, w, p=0, s=1):\n",
        "    w_rot = np.array(w[::-1])\n",
        "    x_padded = np.array(x)\n",
        "    if p > 0:\n",
        "        zero_pad = np.zeros(shape=p)\n",
        "        x_padded = np.concatenate(\n",
        "            [zero_pad, x_padded, zero_pad])\n",
        "    res = []\n",
        "    for i in range(0, (int((len(x_padded) - len(w_rot))/s) + 1) * s, s):\n",
        "        res.append(np.sum(\n",
        "            x_padded[i:i + w_rot.shape[0]] * w_rot))\n",
        "    return np.array(res)\n",
        "\n",
        "\n",
        "## Testing:\n",
        "x = [1, 3, 2, 4, 5, 6, 1, 3]\n",
        "w = [1, 0, 3, 1, 2]\n",
        "\n",
        "print('Conv1d Implementation:',\n",
        "      conv1d(x, w, p=2, s=1))\n",
        "\n",
        "print('Numpy Results:',\n",
        "      np.convolve(x, w, mode='same'))"
      ]
    },
    {
      "cell_type": "markdown",
      "metadata": {
        "id": "7SazQykarqny"
      },
      "source": [
        "### Performing a discrete convolution in 2D"
      ]
    },
    {
      "cell_type": "code",
      "execution_count": 4,
      "metadata": {
        "id": "Ji5ctt-2rqny",
        "outputId": "22255025-5dd6-4586-fa51-bc12d635393e",
        "colab": {
          "base_uri": "https://localhost:8080/"
        }
      },
      "outputs": [
        {
          "output_type": "stream",
          "name": "stdout",
          "text": [
            "Conv2d Implementation:\n",
            " [[11. 25. 32. 13.]\n",
            " [19. 25. 24. 13.]\n",
            " [13. 28. 25. 17.]\n",
            " [11. 17. 14.  9.]]\n",
            "SciPy Results:\n",
            " [[11 25 32 13]\n",
            " [19 25 24 13]\n",
            " [13 28 25 17]\n",
            " [11 17 14  9]]\n"
          ]
        }
      ],
      "source": [
        "import scipy.signal\n",
        "\n",
        "\n",
        "def conv2d(X, W, p=(0, 0), s=(1, 1)):\n",
        "    W_rot = np.array(W)[::-1,::-1]\n",
        "    X_orig = np.array(X)\n",
        "    n1 = X_orig.shape[0] + 2*p[0]\n",
        "    n2 = X_orig.shape[1] + 2*p[1]\n",
        "    X_padded = np.zeros(shape=(n1, n2))\n",
        "    X_padded[p[0]:p[0]+X_orig.shape[0],\n",
        "    p[1]:p[1]+X_orig.shape[1]] = X_orig\n",
        "\n",
        "    res = []\n",
        "    for i in range(0, (int((X_padded.shape[0] -\n",
        "                            W_rot.shape[0]) / s[0]) + 1) * s[0], s[0]):\n",
        "        res.append([])\n",
        "        for j in range(0, (int((X_padded.shape[1] -\n",
        "                                W_rot.shape[1]) / s[1]) + 1) * s[1], s[1]):\n",
        "            X_sub = X_padded[i:i + W_rot.shape[0],\n",
        "                    j:j + W_rot.shape[1]]\n",
        "            res[-1].append(np.sum(X_sub * W_rot))\n",
        "    return(np.array(res))\n",
        "\n",
        "X = [[1, 3, 2, 4], [5, 6, 1, 3], [1, 2, 0, 2], [3, 4, 3, 2]]\n",
        "W = [[1, 0, 3], [1, 2, 1], [0, 1, 1]]\n",
        "\n",
        "print('Conv2d Implementation:\\n',\n",
        "    conv2d(X, W, p=(1, 1), s=(1, 1)))\n",
        "\n",
        "\n",
        "print('SciPy Results:\\n',\n",
        "    scipy.signal.convolve2d(X, W, mode='same'))\n"
      ]
    },
    {
      "cell_type": "markdown",
      "metadata": {
        "id": "B0TY_QPArqnz"
      },
      "source": [
        "**Working with multiple input or color channels**\n",
        "\n",
        "Conventional implementations of convolutional layers expect a rank-3 tensor representation as an input, for\n",
        "example, a three-dimensional array, $𝑿n1 × Xn2 × 𝐶𝑖n$ , where $Cin$ is the number of input channels.\n",
        "For example, let’s consider images as input to the first layer of a CNN.\n",
        "- If the image is colored and uses the `RGB` color\n",
        "mode, then `Cin=3` (for the red, green, and blue color channels in RGB).\n",
        "- However, if the image is in `grayscale`, then we have `Cin=1`, because there is only one channel with the grayscale pixel intensity values.\n",
        "\n",
        "In multiple channel cases (like RGB), we perform the convolution operation for each channel separately and then\n",
        "add the results together using the matrix summation. The convolution associated with each channel\n",
        "(c) has its own kernel matrix as W[:, :, c].\n",
        "\n",
        "---\n"
      ]
    },
    {
      "cell_type": "markdown",
      "metadata": {
        "id": "L3anSajLrqnz"
      },
      "source": [
        "**Reading an image file**\n",
        "\n",
        "When we work with images, we can read images into NumPy arrays using the uint8\n",
        "(unsigned 8-bit integer) data type to reduce memory usage compared to 16-bit, 32-bit, or\n",
        "64-bit integer types, for example.\n",
        "\n",
        "Unsigned 8-bit integers take values in the range [0, 255], which are sufficient to store the\n",
        "pixel information in RGB images, which also take values in the same range.\n",
        "\n",
        "---"
      ]
    },
    {
      "cell_type": "markdown",
      "metadata": {
        "id": "sowVAFHjrqnz"
      },
      "source": [
        "### Network Complexity vs Performance\n",
        "\n",
        "- The `capacity` of a network refers to the level of complex-\n",
        "ity of the function that it can learn to approximate.\n",
        "\n",
        "- `Small networks`, or networks with a relatively\n",
        "small number of parameters, have a `low capacity` and are therefore likely to `underfit`, resulting in\n",
        "poor performance, since they cannot learn the underlying structure of complex datasets.\n",
        "- However,\n",
        "very `large networks` may result in `overfitting`, where the network will memorize the training data and\n",
        "do extremely well on the training dataset while achieving a poor performance on the held-out test\n",
        "dataset.\n",
        "- When we deal with real-world machine learning problems, we do not know how large the\n",
        "network should be a priori.\n",
        "\n",
        "#### Possible Solutions\n",
        "\n",
        "One way to address this problem is to build a network with a relatively `large capacity` (in practice,\n",
        "we want to choose a capacity that is slightly larger than necessary) to do well on the training dataset.\n",
        "Then, to prevent overfitting, we can apply one or `multiple regularization schemes` to achieve good\n",
        "`generalization performance` on new data, such as the held-out test dataset.\n",
        "\n",
        "While both L1 and L2 regularization can be used for NNs as well, with `L2 being the\n",
        "more common choice` of the two, there are other methods for regularizing NNs, such as `dropout`\n"
      ]
    },
    {
      "cell_type": "markdown",
      "source": [
        "## Regularizing an NN with L2 regularization and dropout"
      ],
      "metadata": {
        "id": "Qc9zc8GwbDV8"
      }
    },
    {
      "cell_type": "code",
      "execution_count": 5,
      "metadata": {
        "id": "OQ_TNZklrqnz"
      },
      "outputs": [],
      "source": [
        "import torch.nn as nn\n",
        "loss_func = nn.BCELoss()\n",
        "loss = loss_func(torch.tensor([0.9]), torch.tensor([1.0]))\n",
        "l2_lambda = 0.001\n",
        "\n",
        "conv_layer = nn.Conv2d(in_channels=3, out_channels=5, kernel_size=5)\n",
        "l2_penalty = l2_lambda * sum([(p**2).sum() for p in conv_layer.parameters()])\n",
        "loss_with_penalty = loss + l2_penalty\n",
        "\n",
        "linear_layer = nn.Linear(10, 16)\n",
        "l2_penalty = l2_lambda * sum([(p**2).sum() for p in linear_layer.parameters()])\n",
        "loss_with_penalty = loss + l2_penalty"
      ]
    },
    {
      "cell_type": "markdown",
      "source": [
        "### Dropouts to reduce Overfitting\n",
        "In recent years, dropout has emerged as a popular technique for regularizing (deep) NNs to avoid\n",
        "overfitting, thus improving the generalization performance\n",
        "\n",
        "- Dropout is usually applied to the hidden units of\n",
        "higher layers and works as follows: during the training phase of an NN, a fraction of the hidden units\n",
        "is randomly dropped at every iteration with probability pdrop (or keep probability pkeep=1–pdrop)\n". 
        "This dropout probability is determined by the user and the common choice is p = 0.5.\n",
        "\n",
        "- When dropping a certain fraction\n",
        "of input neurons, the weights associated with the remaining neurons are rescaled to account for the\n",
        "missing (dropped) neurons.\n",
        "\n",
        "- The effect of this random dropout is that the network is forced to learn a redundant representation\n",
        "of the data.\n",
        "- Therefore, the network cannot rely on the activation of any set of hidden units, since\n",
        "they may be turned off at any time during training, and is forced to learn more general and robust\n",
        "patterns from the data.\n",
        "\n",
        "- This random dropout can effectively prevent overfitting. Applying\n",
        "dropout with probability p = 0.5 during the training phase, whereby half of the neurons will become\n",
        "inactive randomly (dropped units are selected randomly in each forward pass of training).\n",
        "- But,\n",
        "during prediction, all neurons will contribute to computing the pre-activations of the next layer\n",
        "\n",
        "However, since it is inconvenient to always scale activations when making predictions, PyTorch and\n",
        "other tools scale the activations during training (for example, by doubling the activations if the dropout\n",
        "probability was set to p =\n",
        "0.5). This approach is commonly referred to as `inverse dropout`."
      ],
      "metadata": {
        "id": "bqesyPoXdqJA"
      }
    },
    {
      "cell_type": "markdown",
      "metadata": {
        "id": "-Cbs4dOdrqnz"
      },
      "source": [
        "## Loss Functions for Classification\n",
        " Binary cross-entropy is the loss function for a binary classification (with a single\n",
        "output unit), and categorical cross-entropy is the loss function for multiclass classification.\n",
        "\n",
        " * **`nn.BCELoss()`**\n",
        "   * `from_logits=False`\n",
        "   * `from_logits=True`\n",
        "\n",
        " * **`nn.CrossEntropyLoss()`**\n",
        "   * `from_logits=False`\n",
        "   * `from_logits=True`\n",
        "\n",
        "computing the cross-entropy loss by providing the logits, and not the class-membership probabilities, is usually preferred due to numerical stability reasons."
      ]
    },
    {
      "cell_type": "code",
      "execution_count": 6,
      "metadata": {
        "id": "RXkq5M3grqn0",
        "outputId": "d499248c-bf49-4801-f501-0f97eb9f3ea0",
        "colab": {
          "base_uri": "https://localhost:8080/"
        }
      },
      "outputs": [
        {
          "output_type": "stream",
          "name": "stdout",
          "text": [
            "BCE (w Probas): 0.3711\n",
            "BCE (w Logits): 0.3711\n",
            "CCE (w Logits): 0.5996\n",
            "CCE (w Probas): 0.5996\n"
          ]
        }
      ],
      "source": [
        "####### Binary Cross-entropy (BCE)\n",
        "logits = torch.tensor([0.8])\n",
        "probas = torch.sigmoid(logits)\n",
        "target = torch.tensor([1.0])\n",
        "\n",
        "bce_loss_fn = nn.BCELoss()\n",
        "bce_logits_loss_fn = nn.BCEWithLogitsLoss()\n",
        "\n",
        "print(f'BCE (w Probas): {bce_loss_fn(probas, target):.4f}')\n",
        "print(f'BCE (w Logits): {bce_logits_loss_fn(logits, target):.4f}')\n",
        "\n",
        "\n",
        "####### Categorical Cross-entropy\n",
        "logits = torch.tensor([[1.5, 0.8, 2.1]])\n",
        "probas = torch.softmax(logits, dim=1)\n",
        "target = torch.tensor([2])\n",
        "\n",
        "cce_loss_fn = nn.NLLLoss()\n",
        "cce_logits_loss_fn = nn.CrossEntropyLoss()\n",
        "\n",
        "print(f'CCE (w Logits): {cce_logits_loss_fn(logits, target):.4f}')\n",
        "print(f'CCE (w Probas): {cce_loss_fn(torch.log(probas), target):.4f}')"
      ]
    },
    {
      "cell_type": "markdown",
      "metadata": {
        "id": "j-yEh9gxrqn0"
      },
      "source": [
        "## Implementing a deep convolutional neural network using PyTorch\n",
        "\n"
      ]
    },
    {
      "cell_type": "markdown",
      "metadata": {
        "id": "1T5f3vVnrqn0"
      },
      "source": [
        "### Loading and preprocessing the data"
      ]
    },
    {
      "cell_type": "code",
      "execution_count": 7,
      "metadata": {
        "colab": {
          "base_uri": "https://localhost:8080/"
        },
        "id": "Uz1QnZh1rqn5",
        "outputId": "643caf59-c230-4d52-87a8-bba283613d99"
      },
      "outputs": [
        {
          "output_type": "stream",
          "name": "stderr",
          "text": [
            "100%|██████████| 9.91M/9.91M [00:00<00:00, 16.4MB/s]\n",
            "100%|██████████| 28.9k/28.9k [00:00<00:00, 490kB/s]\n",
            "100%|██████████| 1.65M/1.65M [00:00<00:00, 4.54MB/s]\n",
            "100%|██████████| 4.54k/4.54k [00:00<00:00, 7.30MB/s]\n"
          ]
        }
      ],
      "source": [
        "import torchvision\n",
        "from torchvision import transforms\n",
        "image_path = './'\n",
        "transform = transforms.Compose([transforms.ToTensor()])\n",
        "\n",
        "mnist_dataset = torchvision.datasets.MNIST(root=image_path,\n",
        "                                           train=True,\n",
        "                                           transform=transform,\n",
        "                                           download=True)\n",
        "\n",
        "from torch.utils.data import Subset\n",
        "mnist_valid_dataset = Subset(mnist_dataset, torch.arange(10000))\n",
        "mnist_train_dataset = Subset(mnist_dataset, torch.arange(10000, len(mnist_dataset)))\n",
        "mnist_test_dataset = torchvision.datasets.MNIST(root=image_path,\n",
        "                                           train=False,\n",
        "                                           transform=transform,\n",
        "                                           download=False)"
      ]
    },
    {
      "cell_type": "markdown",
      "source": [
        "The features we read are of values in the range [0, 1]. Also, we already converted the images to tensors.\n",
        "The labels are integers from 0 to 9, representing ten digits. Hence, we don’t need to do any scaling or\n",
        "further conversion."
      ],
      "metadata": {
        "id": "dm8FjJU846Wy"
      }
    },
    {
      "cell_type": "code",
      "execution_count": 8,
      "metadata": {
        "id": "TRiiZRZZrqn5"
      },
      "outputs": [],
      "source": [
        "from torch.utils.data import DataLoader\n",
        "\n",
        "\n",
        "batch_size = 64\n",
        "torch.manual_seed(1)\n",
        "train_dl = DataLoader(mnist_train_dataset, batch_size, shuffle=True)\n",
        "valid_dl = DataLoader(mnist_valid_dataset, batch_size, shuffle=False)"
      ]
    },
    {
      "cell_type": "markdown",
      "source": [
        "### The multilayer CNN architecture\n",
        "\n",
        "- The inputs\n",
        "are 28×28 grayscale images. Considering the number of channels (which is 1 for grayscale images)\n",
        "and a batch of input images, the input tensor’s dimensions will be batchsize×28×28×1.\n",
        "\n",
        "- The input data goes through two convolutional layers that have a kernel size of 5×5.\n",
        "\n",
        "- The first convolution has 32 output feature maps, and the second one has 64 output feature maps.\n",
        "\n",
        "- Each convolution\n",
        "layer is followed by a subsampling layer in the form of a max-pooling operation, P2×2.\n",
        "\n",
        "- Then a fully\n",
        "connected layer passes the output to a second fully connected layer, which acts as the final softmax\n",
        "output layer.\n",
        "---\n",
        "\n",
        "#### The dimensions of the tensors in each layer are as follows:\n",
        "- Input: [batchsize×28×28×1]\n",
        "- Conv_1: [batchsize×28×28×32]\n",
        "- Pooling_1: [batchsize×14×14×32]\n",
        "- Conv_2: [batchsize×14×14×64]\n",
        "- Pooling_2: [batchsize×7×7×64]\n",
        "- FC_1: [batchsize×1024]\n",
        "- FC_2 and softmax layer: [batchsize×10]\n",
        "---\n",
        "\n",
        "For the convolutional kernels, we are using stride=1 such that the input dimensions are preserved\n",
        "in the resulting feature maps.\n",
        "\n",
        "For the pooling layers, we are using kernel_size=2 to subsample the\n",
        "image and shrink the size of the output feature maps.\n",
        "\n",
        "We will implement this network using the\n",
        "PyTorch NN module."
      ],
      "metadata": {
        "id": "QKNxvC932HC_"
      }
    },
    {
      "cell_type": "markdown",
      "metadata": {
        "id": "Or9-2QuNrqn5"
      },
      "source": [
        "### Implementing a CNN using the torch.nn module\n",
        "\n",
        "#### Configuring CNN layers in PyTorch\n",
        "\n",
        " * **Conv2d:** `torch.nn.Conv2d`\n",
        "   * `out_channels`\n",
        "   * `kernel_size`\n",
        "   * `stride`\n",
        "   * `padding`\n",
        "   \n",
        "   \n",
        " * **MaxPool2d:** `torch.nn.MaxPool2d`\n",
        "   * `kernel_size`\n",
        "   * `stride`\n",
        "   * `padding`\n",
        "   \n",
        "   \n",
        " * **Dropout** `torch.nn.Dropout`\n",
        "   * `p`"
      ]
    },
    {
      "cell_type": "markdown",
      "source": [
        "**Important**\n",
        "- when we read an image, the default dimension for the channels\n",
        "is the first dimension of the tensor array (or the second dimension considering the batch dimension).\n",
        "- This is called the `NCHW` format,\n",
        "  - where N stands for the number of images within the batch,\n",
        "  - C stands for channels,\n",
        "  - and H and W stand for height and width, respectively.\n",
        "\n",
        "- The Conv2D class assumes that inputs are in NCHW format by default. (Other tools, such as\n",
        "TensorFlow, use NHWC format.)"
      ],
      "metadata": {
        "id": "dlbBGiF7Bq9B"
      }
    },
    {
      "cell_type": "markdown",
      "metadata": {
        "id": "LmKI80yprqn5"
      },
      "source": [
        "### Constructing a CNN in PyTorch\n",
        "\n"
      ]
    },
    {
      "cell_type": "code",
      "execution_count": 9,
      "metadata": {
        "id": "7zIjBFyArqn5",
        "outputId": "699d2ca9-c2da-46d5-955a-2ed73e532522",
        "colab": {
          "base_uri": "https://localhost:8080/"
        }
      },
      "outputs": [
        {
          "output_type": "execute_result",
          "data": {
            "text/plain": [
              "torch.Size([4, 64, 7, 7])"
            ]
          },
          "metadata": {},
          "execution_count": 9
        }
      ],
      "source": [
        "model = nn.Sequential()\n",
        "model.add_module('conv1', nn.Conv2d(in_channels=1, out_channels=32, kernel_size=5, padding=2))\n",
        "model.add_module('relu1', nn.ReLU())\n",
        "model.add_module('pool1', nn.MaxPool2d(kernel_size=2))\n",
        "model.add_module('conv2', nn.Conv2d(in_channels=32, out_channels=64, kernel_size=5, padding=2))\n",
        "model.add_module('relu2', nn.ReLU())\n",
        "model.add_module('pool2', nn.MaxPool2d(kernel_size=2))\n",
        "\n",
        "x = torch.ones((4, 1, 28, 28))\n",
        "model(x).shape"
      ]
    },
    {
      "cell_type": "markdown",
      "source": [
        "- We have added two convolution layers to the model. For each convolutional layer, we used a\n",
        "kernel of size 5×5 and padding=2. We are using same padding mode to preserve the spatial\n",
        "dimensions, so we obtained p=2 in order to achieve o=i.\n",
        "\n",
        "- The max-pooling layers with pooling size 2×2 and stride of 2 will reduce the spatial dimensions by\n",
        "half. (also if the stride parameter is not specified in MaxPool2D, by default, it is set equal to the\n",
        "pooling kernel size.)\n",
        "\n",
        "- By providing the input shape as a tuple (4, 1, 28, 28) (4 images within the batch, 1 channel, and\n",
        "image size 28×28), specified in this example, we calculated the output to have a shape (4, 64, 7, 7),\n",
        "indicating feature maps with 64 channels and a spatial size of 7×7. The first dimension corresponds\n",
        "to the batch dimension, for which we used 4 arbitrarily."
      ],
      "metadata": {
        "id": "JYL5pfiSEU52"
      }
    },
    {
      "cell_type": "code",
      "execution_count": 10,
      "metadata": {
        "id": "_yQ290dSrqn5",
        "outputId": "daab68cb-8c15-4f7f-cecc-50dc92266d0b",
        "colab": {
          "base_uri": "https://localhost:8080/"
        }
      },
      "outputs": [
        {
          "output_type": "execute_result",
          "data": {
            "text/plain": [
              "torch.Size([4, 3136])"
            ]
          },
          "metadata": {},
          "execution_count": 10
        }
      ],
      "source": [
        "model.add_module('flatten', nn.Flatten())\n",
        "\n",
        "x = torch.ones((4, 1, 28, 28))\n",
        "model(x).shape"
      ]
    },
    {
      "cell_type": "code",
      "execution_count": 11,
      "metadata": {
        "id": "zWnnRh4nrqn6"
      },
      "outputs": [],
      "source": [
        "model.add_module('fc1', nn.Linear(3136, 1024))\n",
        "model.add_module('relu3', nn.ReLU())\n",
        "model.add_module('dropout', nn.Dropout(p=0.5))\n",
        "\n",
        "model.add_module('fc2', nn.Linear(1024, 10))"
      ]
    },
    {
      "cell_type": "markdown",
      "source": [
        "- The last fully connected layer, named 'fc2', has 10 output units for the 10 class labels in the MNIST\n",
        "dataset.\n",
        "- In practice, we usually use the sofmax activation to obtain the class-membership probabilities of each input example, assuming that the classes are mutually exclusive, so the probabilities for\n",
        "each example sum to 1.\n",
        "- However, the softmax function is already used internally inside PyTorch’s\n",
        "CrossEntropyLoss implementation, which is why don’t have to explicitly add it as a layer after the\n",
        "output layer above"
      ],
      "metadata": {
        "id": "LR44ZtRfF45o"
      }
    },
    {
      "cell_type": "code",
      "execution_count": 12,
      "metadata": {
        "id": "_ko73a3Mrqn6"
      },
      "outputs": [],
      "source": [
        "device = torch.device(\"cuda:0\")\n",
        "# device = torch.device(\"cpu\")\n",
        "\n",
        "model = model.to(device)"
      ]
    },
    {
      "cell_type": "markdown",
      "source": [
        "**Adam Optimizer**\n",
        "\n",
        "- The Adam optimizer is a robust, gradient-based optimization method suited\n",
        "to nonconvex optimization and machine learning problems.\n",
        "- The key advantage of Adam is in the choice of update step size derived from the running\n",
        "average of gradient moments."
      ],
      "metadata": {
        "id": "O3PYg6NpGlut"
      }
    },
    {
      "cell_type": "code",
      "execution_count": 13,
      "metadata": {
        "id": "cyIIEzCjrqn6",
        "outputId": "246bb64c-a1aa-477e-86d1-39305c58a9ba",
        "colab": {
          "base_uri": "https://localhost:8080/"
        }
      },
      "outputs": [
        {
          "output_type": "stream",
          "name": "stdout",
          "text": [
            "Epoch 1 accuracy: 0.9500 val_accuracy: 0.9821\n",
            "Epoch 2 accuracy: 0.9838 val_accuracy: 0.9860\n",
            "Epoch 3 accuracy: 0.9892 val_accuracy: 0.9845\n",
            "Epoch 4 accuracy: 0.9922 val_accuracy: 0.9908\n",
            "Epoch 5 accuracy: 0.9928 val_accuracy: 0.9901\n",
            "Epoch 6 accuracy: 0.9945 val_accuracy: 0.9899\n",
            "Epoch 7 accuracy: 0.9945 val_accuracy: 0.9896\n",
            "Epoch 8 accuracy: 0.9965 val_accuracy: 0.9892\n",
            "Epoch 9 accuracy: 0.9966 val_accuracy: 0.9920\n",
            "Epoch 10 accuracy: 0.9969 val_accuracy: 0.9914\n",
            "Epoch 11 accuracy: 0.9970 val_accuracy: 0.9920\n",
            "Epoch 12 accuracy: 0.9968 val_accuracy: 0.9909\n",
            "Epoch 13 accuracy: 0.9976 val_accuracy: 0.9903\n",
            "Epoch 14 accuracy: 0.9977 val_accuracy: 0.9904\n",
            "Epoch 15 accuracy: 0.9977 val_accuracy: 0.9917\n",
            "Epoch 16 accuracy: 0.9983 val_accuracy: 0.9901\n",
            "Epoch 17 accuracy: 0.9977 val_accuracy: 0.9881\n",
            "Epoch 18 accuracy: 0.9983 val_accuracy: 0.9890\n",
            "Epoch 19 accuracy: 0.9979 val_accuracy: 0.9904\n",
            "Epoch 20 accuracy: 0.9983 val_accuracy: 0.9906\n"
          ]
        }
      ],
      "source": [
        "loss_fn = nn.CrossEntropyLoss()\n",
        "optimizer = torch.optim.Adam(model.parameters(), lr=0.001)\n",
        "\n",
        "def train(model, num_epochs, train_dl, valid_dl):\n",
        "    loss_hist_train = [0] * num_epochs\n",
        "    accuracy_hist_train = [0] * num_epochs\n",
        "    loss_hist_valid = [0] * num_epochs\n",
        "    accuracy_hist_valid = [0] * num_epochs\n",
        "    for epoch in range(num_epochs):\n",
        "        model.train()\n",
        "        for x_batch, y_batch in train_dl:\n",
        "            x_batch = x_batch.to(device)\n",
        "            y_batch = y_batch.to(device)\n",
        "            pred = model(x_batch)\n",
        "            loss = loss_fn(pred, y_batch)\n",
        "            loss.backward()\n",
        "            optimizer.step()\n",
        "            optimizer.zero_grad()\n",
        "            loss_hist_train[epoch] += loss.item()*y_batch.size(0)\n",
        "            is_correct = (torch.argmax(pred, dim=1) == y_batch).float()\n",
        "            accuracy_hist_train[epoch] += is_correct.sum().cpu()\n",
        "\n",
        "        loss_hist_train[epoch] /= len(train_dl.dataset)\n",
        "        accuracy_hist_train[epoch] /= len(train_dl.dataset)\n",
        "\n",
        "        model.eval()\n",
        "        with torch.no_grad():\n",
        "            for x_batch, y_batch in valid_dl:\n",
        "                x_batch = x_batch.to(device)\n",
        "                y_batch = y_batch.to(device)\n",
        "                pred = model(x_batch)\n",
        "                loss = loss_fn(pred, y_batch)\n",
        "                loss_hist_valid[epoch] += loss.item()*y_batch.size(0)\n",
        "                is_correct = (torch.argmax(pred, dim=1) == y_batch).float()\n",
        "                accuracy_hist_valid[epoch] += is_correct.sum().cpu()\n",
        "\n",
        "        loss_hist_valid[epoch] /= len(valid_dl.dataset)\n",
        "        accuracy_hist_valid[epoch] /= len(valid_dl.dataset)\n",
        "\n",
        "        print(f'Epoch {epoch+1} accuracy: {accuracy_hist_train[epoch]:.4f} val_accuracy: {accuracy_hist_valid[epoch]:.4f}')\n",
        "    return loss_hist_train, loss_hist_valid, accuracy_hist_train, accuracy_hist_valid\n",
        "\n",
        "torch.manual_seed(1)\n",
        "num_epochs = 20\n",
        "hist = train(model, num_epochs, train_dl, valid_dl)"
      ]
    },
    {
      "cell_type": "markdown",
      "source": [
        "By using the designated settings for training model.train() and evaluation model.eval() will\n",
        "automatically set the mode for the dropout layer and rescale the hidden units appropriately so that\n",
        "we do not have to worry about that at all."
      ],
      "metadata": {
        "id": "I1-f6ay0HP4w"
      }
    },
    {
      "cell_type": "code",
      "execution_count": 15,
      "metadata": {
        "id": "zOU7_OJzrqn6",
        "outputId": "f61ec70d-503a-47c7-fc9f-04ab10b91e73",
        "colab": {
          "base_uri": "https://localhost:8080/",
          "height": 395
        }
      },
      "outputs": [
        {
          "output_type": "display_data",
          "data": {
            "text/plain": [
              "<Figure size 1000x400 with 2 Axes>"
            ],
            "image/png": "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\n"
          },
          "metadata": {}
        }
      ],
      "source": [
        "import matplotlib.pyplot as plt\n",
        "\n",
        "\n",
        "x_arr = np.arange(len(hist[0])) + 1\n",
        "\n",
        "fig = plt.figure(figsize=(10, 4))\n",
        "ax = fig.add_subplot(1, 2, 1)\n",
        "ax.plot(x_arr, hist[0], '-o', label='Train loss')\n",
        "ax.plot(x_arr, hist[1], '--<', label='Validation loss')\n",
        "ax.set_xlabel('Epoch', size=15)\n",
        "ax.set_ylabel('Loss', size=15)\n",
        "ax.legend(fontsize=15)\n",
        "ax = fig.add_subplot(1, 2, 2)\n",
        "ax.plot(x_arr, hist[2], '-o', label='Train acc.')\n",
        "ax.plot(x_arr, hist[3], '--<', label='Validation acc.')\n",
        "ax.legend(fontsize=15)\n",
        "ax.set_xlabel('Epoch', size=15)\n",
        "ax.set_ylabel('Accuracy', size=15)\n",
        "\n",
        "plt.show()"
      ]
    },
    {
      "cell_type": "code",
      "execution_count": 16,
      "metadata": {
        "id": "zbC7DQ9jrqn6",
        "outputId": "255614d2-2e2b-4e95-9f71-557cfac72680",
        "colab": {
          "base_uri": "https://localhost:8080/"
        }
      },
      "outputs": [
        {
          "output_type": "stream",
          "name": "stdout",
          "text": [
            "Test accuracy: 0.9925\n"
          ]
        }
      ],
      "source": [
        "torch.cuda.synchronize()\n",
        "model_cpu = model.cpu()\n",
        "pred = model(mnist_test_dataset.data.unsqueeze(1) / 255.)\n",
        "is_correct = (torch.argmax(pred, dim=1) == mnist_test_dataset.targets).float()\n",
        "print(f'Test accuracy: {is_correct.mean():.4f}')"
      ]
    },
    {
      "cell_type": "markdown",
      "source": [
        "The CNN model achieves an accuracy of 99.07 percent. Previously, we got approximately 95 percent accuracy using only fully connected (instead of convolutional) layers."
      ],
      "metadata": {
        "id": "DhfTLMIoH-KW"
      }
    },
    {
      "cell_type": "markdown",
      "source": [
        "Now let's visualize the input and predicted labels for a batch of 12 examples"
      ],
      "metadata": {
        "id": "DBTl1OchIh4z"
      }
    },
    {
      "cell_type": "code",
      "execution_count": 17,
      "metadata": {
        "id": "rs7FXhT1rqn6",
        "outputId": "97cb296d-ef53-40d4-bcb7-115b2a013540",
        "colab": {
          "base_uri": "https://localhost:8080/",
          "height": 337
        }
      },
      "outputs": [
        {
          "output_type": "display_data",
          "data": {
            "text/plain": [
              "<Figure size 1200x400 with 12 Axes>"
            ],
            "image/png": "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\n"
          },
          "metadata": {}
        }
      ],
      "source": [
        "fig = plt.figure(figsize=(12, 4))\n",
        "for i in range(12):\n",
        "    ax = fig.add_subplot(2, 6, i+1)\n",
        "    ax.set_xticks([]); ax.set_yticks([])\n",
        "    img = mnist_test_dataset[i][0][0, :, :]\n",
        "    pred = model(img.unsqueeze(0).unsqueeze(1)) # alternatively: mnist_test_dataset.data[i].float()\n",
        "    y_pred = torch.argmax(pred)\n",
        "    ax.imshow(img, cmap='gray_r')\n",
        "    ax.text(0.9, 0.1, y_pred.item(),\n",
        "            size=15, color='blue',\n",
        "            horizontalalignment='center',\n",
        "            verticalalignment='center',\n",
        "            transform=ax.transAxes)\n",
        "\n",
        "plt.show()"
      ]
    },
    {
      "cell_type": "markdown",
      "source": [
        "In this set of plotted examples, all the predicted labels are correct."
      ],
      "metadata": {
        "id": "YuMkWcg_IqV7"
      }
    },
    {
      "cell_type": "markdown",
      "source": [
        "#### Save the Trained Model"
      ],
      "metadata": {
        "id": "tgBI0eKWIzEq"
      }
    },
    {
      "cell_type": "code",
      "execution_count": 18,
      "metadata": {
        "id": "bLI1Khe5rqn6"
      },
      "outputs": [],
      "source": [
        "import os\n",
        "\n",
        "if not os.path.exists('models'):\n",
        "    os.mkdir('models')\n",
        "\n",
        "path = 'models/mnist-cnn.ph'\n",
        "torch.save(model, path)\n"
      ]
    },
    {
      "cell_type": "markdown",
      "metadata": {
        "id": "GYUaL8ztrqn7"
      },
      "source": [
        "----\n"
      ]
    }
  ],
  "metadata": {
    "kernelspec": {
      "display_name": "Python 3",
      "name": "python3"
    },
    "language_info": {
      "codemirror_mode": {
        "name": "ipython",
        "version": 3
      },
      "file_extension": ".py",
      "mimetype": "text/x-python",
      "name": "python",
      "nbconvert_exporter": "python",
      "pygments_lexer": "ipython3",
      "version": "3.10.12"
    },
    "colab": {
      "provenance": [],
      "gpuType": "T4"
    },
    "accelerator": "GPU"
  },
  "nbformat": 4,
  "nbformat_minor": 0
}
