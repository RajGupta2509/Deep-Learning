{
  "cells": [
    {
      "cell_type": "markdown",
      "metadata": {
        "id": "lzmc_kT9874W"
      },
      "source": [
        "# Pytorch Tensors\n"
      ]
    },
    {
      "cell_type": "markdown",
      "metadata": {
        "id": "-GKthFQw874X"
      },
      "source": [
        "## First steps with PyTorch"
      ]
    },
    {
      "cell_type": "markdown",
      "metadata": {
        "id": "SpDvswaE874X"
      },
      "source": [
        "### Installing PyTorch"
      ]
    },
    {
      "cell_type": "code",
      "execution_count": 1,
      "metadata": {
        "id": "QzKUy5p6874X"
      },
      "outputs": [],
      "source": [
        "#! pip install torch"
      ]
    },
    {
      "cell_type": "code",
      "execution_count": 2,
      "metadata": {
        "colab": {
          "base_uri": "https://localhost:8080/"
        },
        "id": "sxjx99eY874X",
        "outputId": "c1135ec7-e871-4815-de55-f6d6d4125e73"
      },
      "outputs": [
        {
          "output_type": "stream",
          "name": "stdout",
          "text": [
            "PyTorch version: 2.6.0+cu124\n"
          ]
        }
      ],
      "source": [
        "import torch\n",
        "import numpy as np\n",
        "\n",
        "print('PyTorch version:', torch.__version__)\n",
        "\n",
        "np.set_printoptions(precision=3)"
      ]
    },
    {
      "cell_type": "code",
      "execution_count": 3,
      "metadata": {
        "colab": {
          "base_uri": "https://localhost:8080/"
        },
        "id": "lI3NvK8_874X",
        "outputId": "643b3dd5-06c5-4297-dce6-4ba51f9632e9"
      },
      "outputs": [
        {
          "output_type": "stream",
          "name": "stdout",
          "text": [
            "2.6.0+cu124\n"
          ]
        }
      ],
      "source": [
        "! python -c 'import torch; print(torch.__version__)'"
      ]
    },
    {
      "cell_type": "markdown",
      "metadata": {
        "id": "2I0QV__G874X"
      },
      "source": [
        "### Creating tensors in PyTorch"
      ]
    },
    {
      "cell_type": "code",
      "execution_count": 4,
      "metadata": {
        "colab": {
          "base_uri": "https://localhost:8080/"
        },
        "id": "MZyHhXpm874X",
        "outputId": "c04690e9-bc55-491a-f6ff-13f038652adb"
      },
      "outputs": [
        {
          "output_type": "stream",
          "name": "stdout",
          "text": [
            "tensor([1, 2, 3])\n",
            "tensor([4, 5, 6], dtype=torch.int32)\n"
          ]
        }
      ],
      "source": [
        "a = [1, 2, 3]\n",
        "b = np.array([4, 5, 6], dtype=np.int32)\n",
        "\n",
        "t_a = torch.tensor(a)\n",
        "t_b = torch.from_numpy(b)\n",
        "\n",
        "print(t_a)\n",
        "print(t_b)"
      ]
    },
    {
      "cell_type": "code",
      "execution_count": 5,
      "metadata": {
        "colab": {
          "base_uri": "https://localhost:8080/"
        },
        "id": "nuubT0XI874Y",
        "outputId": "8e62b5cd-7735-4944-866a-cf6e8e9578ba"
      },
      "outputs": [
        {
          "output_type": "execute_result",
          "data": {
            "text/plain": [
              "(False, True)"
            ]
          },
          "metadata": {},
          "execution_count": 5
        }
      ],
      "source": [
        "torch.is_tensor(a), torch.is_tensor(t_a)"
      ]
    },
    {
      "cell_type": "code",
      "execution_count": 6,
      "metadata": {
        "colab": {
          "base_uri": "https://localhost:8080/"
        },
        "id": "bnUWUj3_874Y",
        "outputId": "5f2a1a40-c26f-45e0-fa4f-1144db1d7cca"
      },
      "outputs": [
        {
          "output_type": "execute_result",
          "data": {
            "text/plain": [
              "torch.Size([2, 3])"
            ]
          },
          "metadata": {},
          "execution_count": 6
        }
      ],
      "source": [
        "t_ones = torch.ones(2, 3)\n",
        "\n",
        "t_ones.shape"
      ]
    },
    {
      "cell_type": "code",
      "execution_count": 7,
      "metadata": {
        "colab": {
          "base_uri": "https://localhost:8080/"
        },
        "id": "3kS3vuqq874Y",
        "outputId": "90aa2710-41e6-47d0-ce67-1629dd4cc291"
      },
      "outputs": [
        {
          "output_type": "stream",
          "name": "stdout",
          "text": [
            "tensor([[1., 1., 1.],\n",
            "        [1., 1., 1.]])\n"
          ]
        }
      ],
      "source": [
        "print(t_ones)"
      ]
    },
    {
      "cell_type": "code",
      "execution_count": 8,
      "metadata": {
        "colab": {
          "base_uri": "https://localhost:8080/"
        },
        "id": "AaZrLtAO874Y",
        "outputId": "4f17b38e-1fe4-4d4a-91ae-a0734b0df19e"
      },
      "outputs": [
        {
          "output_type": "stream",
          "name": "stdout",
          "text": [
            "tensor([[0.6725, 0.8712, 0.9308],\n",
            "        [0.4090, 0.5204, 0.1817]])\n"
          ]
        }
      ],
      "source": [
        "rand_tensor = torch.rand(2,3)\n",
        "\n",
        "print(rand_tensor)"
      ]
    },
    {
      "cell_type": "markdown",
      "metadata": {
        "id": "Axx2ERko874Y"
      },
      "source": [
        "### Manipulating the data type and shape of a tensor"
      ]
    },
    {
      "cell_type": "code",
      "execution_count": 9,
      "metadata": {
        "colab": {
          "base_uri": "https://localhost:8080/"
        },
        "id": "UudMTSJQ874Y",
        "outputId": "c4882c7b-3bc6-4f62-d33d-4581a0519c64"
      },
      "outputs": [
        {
          "output_type": "stream",
          "name": "stdout",
          "text": [
            "torch.int64\n"
          ]
        }
      ],
      "source": [
        "t_a_new = t_a.to(torch.int64)\n",
        "\n",
        "print(t_a_new.dtype)"
      ]
    },
    {
      "cell_type": "code",
      "execution_count": 10,
      "metadata": {
        "colab": {
          "base_uri": "https://localhost:8080/"
        },
        "id": "il5It8rc874Y",
        "outputId": "89898f2f-b630-4dfc-cd34-c06a3a4d2ec2"
      },
      "outputs": [
        {
          "output_type": "stream",
          "name": "stdout",
          "text": [
            "torch.Size([3, 5])  -->  torch.Size([5, 3])\n"
          ]
        }
      ],
      "source": [
        "t = torch.rand(3, 5)\n",
        "\n",
        "t_tr = torch.transpose(t, 0, 1)\n",
        "print(t.shape, ' --> ', t_tr.shape)"
      ]
    },
    {
      "cell_type": "code",
      "execution_count": 11,
      "metadata": {
        "colab": {
          "base_uri": "https://localhost:8080/"
        },
        "id": "mp0bOIdb874Y",
        "outputId": "70b87f9c-f327-4b7b-a999-47c97918d307"
      },
      "outputs": [
        {
          "output_type": "stream",
          "name": "stdout",
          "text": [
            "torch.Size([5, 6])\n"
          ]
        }
      ],
      "source": [
        "t = torch.zeros(30)\n",
        "\n",
        "t_reshape = t.reshape(5, 6)\n",
        "\n",
        "print(t_reshape.shape)"
      ]
    },
    {
      "cell_type": "code",
      "execution_count": 12,
      "metadata": {
        "colab": {
          "base_uri": "https://localhost:8080/"
        },
        "id": "tsJH9ey6874Y",
        "outputId": "b0cce27c-7e7b-41ca-8a1d-e888aa27db91"
      },
      "outputs": [
        {
          "output_type": "stream",
          "name": "stdout",
          "text": [
            "torch.Size([1, 2, 1, 4, 1])  -->  torch.Size([1, 2, 4, 1])\n"
          ]
        }
      ],
      "source": [
        "# Removing the unnecessary dimensions (dimensions that have size 1, which are not needed)\n",
        "t = torch.zeros(1, 2, 1, 4, 1)\n",
        "\n",
        "t_sqz = torch.squeeze(t, 2)\n",
        "\n",
        "print(t.shape, ' --> ', t_sqz.shape)"
      ]
    },
    {
      "cell_type": "markdown",
      "metadata": {
        "id": "PZfyuxR2874Y"
      },
      "source": [
        "### Applying mathematical operations to tensors"
      ]
    },
    {
      "cell_type": "code",
      "execution_count": 13,
      "metadata": {
        "id": "gk-5KwsI874Y"
      },
      "outputs": [],
      "source": [
        "torch.manual_seed(1)\n",
        "\n",
        "t1 = 2 * torch.rand(5, 2) - 1\n",
        "t2 = torch.normal(mean=0, std=1, size=(5, 2))"
      ]
    },
    {
      "cell_type": "code",
      "execution_count": 14,
      "metadata": {
        "colab": {
          "base_uri": "https://localhost:8080/"
        },
        "id": "smufH_bi874Y",
        "outputId": "43a07298-6a9e-4504-f404-f4b44f66d881"
      },
      "outputs": [
        {
          "output_type": "stream",
          "name": "stdout",
          "text": [
            "tensor([[ 0.4426, -0.3114],\n",
            "        [ 0.0660, -0.5970],\n",
            "        [ 1.1249,  0.0150],\n",
            "        [ 0.1569,  0.7107],\n",
            "        [-0.0451, -0.0352]])\n"
          ]
        }
      ],
      "source": [
        "# element-wise product of t1 and t2\n",
        "t3 = torch.multiply(t1, t2)\n",
        "print(t3)"
      ]
    },
    {
      "cell_type": "code",
      "execution_count": 15,
      "metadata": {
        "colab": {
          "base_uri": "https://localhost:8080/"
        },
        "id": "MNZa-qNg874Y",
        "outputId": "23d898d3-ffca-4d5e-8610-a3f9fcba9d11"
      },
      "outputs": [
        {
          "output_type": "stream",
          "name": "stdout",
          "text": [
            "tensor([-0.1373,  0.2028])\n"
          ]
        }
      ],
      "source": [
        "t4 = torch.mean(t1, axis=0)\n",
        "print(t4)"
      ]
    },
    {
      "cell_type": "code",
      "execution_count": 16,
      "metadata": {
        "colab": {
          "base_uri": "https://localhost:8080/"
        },
        "id": "DHLCjsq9874Z",
        "outputId": "95cdbdd0-4beb-4f64-ec5d-d6dcf3dbcdf9"
      },
      "outputs": [
        {
          "output_type": "stream",
          "name": "stdout",
          "text": [
            "tensor([[ 0.1312,  0.3860, -0.6267, -1.0096, -0.2943],\n",
            "        [ 0.1647, -0.5310,  0.2434,  0.8035,  0.1980],\n",
            "        [-0.3855, -0.4422,  1.1399,  1.5558,  0.4781],\n",
            "        [ 0.1822, -0.5771,  0.2585,  0.8676,  0.2132],\n",
            "        [ 0.0330,  0.1084, -0.1692, -0.2771, -0.0804]])\n"
          ]
        }
      ],
      "source": [
        "# The matrix-matrix product between t1 and t2\n",
        "t5 = torch.matmul(t1, torch.transpose(t2, 0, 1))\n",
        "\n",
        "print(t5)"
      ]
    },
    {
      "cell_type": "code",
      "execution_count": 17,
      "metadata": {
        "colab": {
          "base_uri": "https://localhost:8080/"
        },
        "id": "Xhkpituf874Z",
        "outputId": "7d143cbd-437e-4f20-eaa2-78bdebb152c0"
      },
      "outputs": [
        {
          "output_type": "stream",
          "name": "stdout",
          "text": [
            "tensor([[ 1.7453,  0.3392],\n",
            "        [-1.6038, -0.2180]])\n"
          ]
        }
      ],
      "source": [
        "t6 = torch.matmul(torch.transpose(t1, 0, 1), t2)\n",
        "\n",
        "print(t6)"
      ]
    },
    {
      "cell_type": "code",
      "execution_count": 18,
      "metadata": {
        "colab": {
          "base_uri": "https://localhost:8080/"
        },
        "id": "JBE1lGpb874Z",
        "outputId": "c4956792-da74-4a28-b474-0878465b8b44"
      },
      "outputs": [
        {
          "output_type": "stream",
          "name": "stdout",
          "text": [
            "tensor([0.6785, 0.5078, 1.1162, 0.5488, 0.1853])\n"
          ]
        }
      ],
      "source": [
        "# computing the Lp norm of a tensor (here L2-norm)\n",
        "norm_t1 = torch.linalg.norm(t1, ord=2, dim=1)\n",
        "\n",
        "print(norm_t1)"
      ]
    },
    {
      "cell_type": "code",
      "execution_count": 19,
      "metadata": {
        "colab": {
          "base_uri": "https://localhost:8080/"
        },
        "id": "dSPCBcbz874d",
        "outputId": "5c2ef160-ab8a-4ae4-a497-819af4a58e77"
      },
      "outputs": [
        {
          "output_type": "execute_result",
          "data": {
            "text/plain": [
              "array([0.678, 0.508, 1.116, 0.549, 0.185], dtype=float32)"
            ]
          },
          "metadata": {},
          "execution_count": 19
        }
      ],
      "source": [
        "# To verify that above code snippet computes the L2 norm of t1 correctly\n",
        "np.sqrt(np.sum(np.square(t1.numpy()), axis=1))"
      ]
    },
    {
      "cell_type": "markdown",
      "metadata": {
        "id": "-8pxZTSR874d"
      },
      "source": [
        "### Split, stack, and concatenate tensors"
      ]
    },
    {
      "cell_type": "code",
      "execution_count": 20,
      "metadata": {
        "colab": {
          "base_uri": "https://localhost:8080/"
        },
        "id": "Diksn-8T874d",
        "outputId": "998e65c5-1aae-4e86-95fd-192a9a423b81"
      },
      "outputs": [
        {
          "output_type": "stream",
          "name": "stdout",
          "text": [
            "tensor([0.7576, 0.2793, 0.4031, 0.7347, 0.0293, 0.7999])\n"
          ]
        },
        {
          "output_type": "execute_result",
          "data": {
            "text/plain": [
              "[array([0.758, 0.279], dtype=float32),\n",
              " array([0.403, 0.735], dtype=float32),\n",
              " array([0.029, 0.8  ], dtype=float32)]"
            ]
          },
          "metadata": {},
          "execution_count": 20
        }
      ],
      "source": [
        "torch.manual_seed(1)\n",
        "\n",
        "t = torch.rand(6)\n",
        "\n",
        "print(t)\n",
        "\n",
        "# PyTorch provides a convenient torch.chunk() function, which divides an input tensor into a list of equally sized tensors\n",
        "\n",
        "t_splits = torch.chunk(t, 3)\n",
        "\n",
        "[item.numpy() for item in t_splits]"
      ]
    },
    {
      "cell_type": "code",
      "execution_count": 21,
      "metadata": {
        "colab": {
          "base_uri": "https://localhost:8080/"
        },
        "id": "gc_9imkk874d",
        "outputId": "17703740-827b-4fef-d51e-b0ae5851966d"
      },
      "outputs": [
        {
          "output_type": "stream",
          "name": "stdout",
          "text": [
            "tensor([0.7576, 0.2793, 0.4031, 0.7347, 0.0293])\n"
          ]
        },
        {
          "output_type": "execute_result",
          "data": {
            "text/plain": [
              "[array([0.758, 0.279, 0.403], dtype=float32),\n",
              " array([0.735, 0.029], dtype=float32)]"
            ]
          },
          "metadata": {},
          "execution_count": 21
        }
      ],
      "source": [
        "torch.manual_seed(1)\n",
        "t = torch.rand(5)\n",
        "\n",
        "print(t)\n",
        "\n",
        "# we can provide the desired sizes in a list using the torch.split() function\n",
        "t_splits = torch.split(t, split_size_or_sections=[3, 2])\n",
        "\n",
        "[item.numpy() for item in t_splits]"
      ]
    },
    {
      "cell_type": "code",
      "execution_count": 22,
      "metadata": {
        "colab": {
          "base_uri": "https://localhost:8080/"
        },
        "id": "rwVQ5HqQ874e",
        "outputId": "f6a882b1-0975-4cb1-b2ef-adc585878800"
      },
      "outputs": [
        {
          "output_type": "stream",
          "name": "stdout",
          "text": [
            "tensor([1., 1., 1., 0., 0.])\n"
          ]
        }
      ],
      "source": [
        "A = torch.ones(3)\n",
        "B = torch.zeros(2)\n",
        "\n",
        "C = torch.cat([A, B], axis=0)\n",
        "print(C)"
      ]
    },
    {
      "cell_type": "code",
      "execution_count": 23,
      "metadata": {
        "colab": {
          "base_uri": "https://localhost:8080/"
        },
        "id": "Owg69KLW874e",
        "outputId": "8a28cda4-cb3b-4bdf-a8ee-93f66169cdb1"
      },
      "outputs": [
        {
          "output_type": "stream",
          "name": "stdout",
          "text": [
            "tensor([[1., 0.],\n",
            "        [1., 0.],\n",
            "        [1., 0.]])\n"
          ]
        }
      ],
      "source": [
        "A = torch.ones(3)\n",
        "B = torch.zeros(3)\n",
        "\n",
        "S = torch.stack([A, B], axis=1)\n",
        "print(S)"
      ]
    },
    {
      "cell_type": "markdown",
      "metadata": {
        "id": "r8B_BCYB874e"
      },
      "source": [
        "## Building input pipelines in PyTorch"
      ]
    },
    {
      "cell_type": "markdown",
      "metadata": {
        "id": "hIr-lIVL874e"
      },
      "source": [
        "### Creating a PyTorch DataLoader from existing tensors\n",
        "\n",
        "If the data already exists in the form of a tensor object, a Python list, or a NumPy array, we can easily\n",
        "create a dataset loader using the torch.utils.data.DataLoader() class. It returns an object of the\n",
        "DataLoader class, which we can use to iterate through the individual elements in the input dataset."
      ]
    },
    {
      "cell_type": "code",
      "execution_count": 24,
      "metadata": {
        "id": "7-M4IO6N874e"
      },
      "outputs": [],
      "source": [
        "from torch.utils.data import DataLoader\n",
        "\n",
        "t = torch.arange(6, dtype=torch.float32)\n",
        "data_loader = DataLoader(t)"
      ]
    },
    {
      "cell_type": "code",
      "execution_count": 25,
      "metadata": {
        "colab": {
          "base_uri": "https://localhost:8080/"
        },
        "id": "-IramxFs874e",
        "outputId": "dbfc842f-41c7-4808-dea3-b6fa1f22b8b9"
      },
      "outputs": [
        {
          "output_type": "stream",
          "name": "stdout",
          "text": [
            "tensor([0.])\n",
            "tensor([1.])\n",
            "tensor([2.])\n",
            "tensor([3.])\n",
            "tensor([4.])\n",
            "tensor([5.])\n"
          ]
        }
      ],
      "source": [
        "for item in data_loader:\n",
        "    print(item)"
      ]
    },
    {
      "cell_type": "code",
      "execution_count": 26,
      "metadata": {
        "colab": {
          "base_uri": "https://localhost:8080/"
        },
        "id": "AbYxp7fX874e",
        "outputId": "f3bcc132-eca1-45a0-bf19-a6804e75bfa6"
      },
      "outputs": [
        {
          "output_type": "stream",
          "name": "stdout",
          "text": [
            "batch 1: tensor([0., 1., 2.])\n",
            "batch 2: tensor([3., 4., 5.])\n"
          ]
        }
      ],
      "source": [
        "data_loader = DataLoader(t, batch_size=3, drop_last=False)\n",
        "\n",
        "for i, batch in enumerate(data_loader, 1):\n",
        "    print(f'batch {i}:', batch)"
      ]
    },
    {
      "cell_type": "markdown",
      "metadata": {
        "id": "5gnUg_Ai874e"
      },
      "source": [
        "### Combining two tensors into a joint dataset"
      ]
    },
    {
      "cell_type": "code",
      "execution_count": 27,
      "metadata": {
        "id": "FCACvQAC874e"
      },
      "outputs": [],
      "source": [
        "from torch.utils.data import Dataset\n",
        "\n",
        "class JointDataset(Dataset):\n",
        "    def __init__(self, x, y):\n",
        "        self.x = x\n",
        "        self.y = y\n",
        "    def __len__(self):\n",
        "        return len(self.x)\n",
        "    def __getitem__(self, idx):\n",
        "        return self.x[idx], self.y[idx]"
      ]
    },
    {
      "cell_type": "markdown",
      "source": [
        "Assume that we have two tensors, t_x and t_y. Tensor t_x holds our feature values, each of size 3, and\n",
        "t_y stores the class labels."
      ],
      "metadata": {
        "id": "NX2v3alMIErc"
      }
    },
    {
      "cell_type": "code",
      "execution_count": 28,
      "metadata": {
        "colab": {
          "base_uri": "https://localhost:8080/"
        },
        "id": "X_2qkhmO874e",
        "outputId": "0f074258-f333-428d-e3a2-88759ef6073e"
      },
      "outputs": [
        {
          "output_type": "stream",
          "name": "stdout",
          "text": [
            "  x:  tensor([0.7576, 0.2793, 0.4031])   y:  tensor(0)\n",
            "  x:  tensor([0.7347, 0.0293, 0.7999])   y:  tensor(1)\n",
            "  x:  tensor([0.3971, 0.7544, 0.5695])   y:  tensor(2)\n",
            "  x:  tensor([0.4388, 0.6387, 0.5247])   y:  tensor(3)\n"
          ]
        }
      ],
      "source": [
        "torch.manual_seed(1)\n",
        "\n",
        "t_x = torch.rand([4, 3], dtype=torch.float32)\n",
        "t_y = torch.arange(4)\n",
        "joint_dataset = JointDataset(t_x, t_y)\n",
        "\n",
        "# Or use TensorDataset directly\n",
        "from torch.utils.data import TensorDataset\n",
        "joint_dataset = TensorDataset(t_x, t_y)\n",
        "\n",
        "for example in joint_dataset:\n",
        "    print('  x: ', example[0],\n",
        "          '  y: ', example[1])"
      ]
    },
    {
      "cell_type": "markdown",
      "metadata": {
        "id": "mGWb4_ci874e"
      },
      "source": [
        "### Shuffle, batch, and repeat"
      ]
    },
    {
      "cell_type": "code",
      "execution_count": 29,
      "metadata": {
        "colab": {
          "base_uri": "https://localhost:8080/"
        },
        "id": "N7-gHY2e874e",
        "outputId": "7457c66c-c14c-4eff-f7c9-c8189c0a5259"
      },
      "outputs": [
        {
          "output_type": "stream",
          "name": "stdout",
          "text": [
            "batch 1: x: tensor([[0.3971, 0.7544, 0.5695],\n",
            "        [0.7576, 0.2793, 0.4031]]) \n",
            "         y: tensor([2, 0])\n",
            "batch 2: x: tensor([[0.7347, 0.0293, 0.7999],\n",
            "        [0.4388, 0.6387, 0.5247]]) \n",
            "         y: tensor([1, 3])\n"
          ]
        }
      ],
      "source": [
        "torch.manual_seed(1)\n",
        "data_loader = DataLoader(dataset=joint_dataset, batch_size=2, shuffle=True)\n",
        "\n",
        "for i, batch in enumerate(data_loader, 1):\n",
        "        print(f'batch {i}:', 'x:', batch[0],\n",
        "              '\\n         y:', batch[1])\n"
      ]
    },
    {
      "cell_type": "code",
      "source": [
        "# when training a model for multiple epochs, we need to shuffle and iterate over the dataset by the desired number of epochs. So, let’s iterate over the batched dataset twice\n",
        "\n",
        "for epoch in range(2):\n",
        "    print(f'epoch {epoch+1}')\n",
        "    for i, batch in enumerate(data_loader, 1):\n",
        "        print(f'batch {i}:', 'x:', batch[0],\n",
        "              '\\n         y:', batch[1])"
      ],
      "metadata": {
        "colab": {
          "base_uri": "https://localhost:8080/"
        },
        "id": "oF3iC4U3J7H3",
        "outputId": "8dbcf7ff-77ae-4deb-f79d-14e2329918a0"
      },
      "execution_count": 30,
      "outputs": [
        {
          "output_type": "stream",
          "name": "stdout",
          "text": [
            "epoch 1\n",
            "batch 1: x: tensor([[0.7576, 0.2793, 0.4031],\n",
            "        [0.3971, 0.7544, 0.5695]]) \n",
            "         y: tensor([0, 2])\n",
            "batch 2: x: tensor([[0.7347, 0.0293, 0.7999],\n",
            "        [0.4388, 0.6387, 0.5247]]) \n",
            "         y: tensor([1, 3])\n",
            "epoch 2\n",
            "batch 1: x: tensor([[0.4388, 0.6387, 0.5247],\n",
            "        [0.3971, 0.7544, 0.5695]]) \n",
            "         y: tensor([3, 2])\n",
            "batch 2: x: tensor([[0.7576, 0.2793, 0.4031],\n",
            "        [0.7347, 0.0293, 0.7999]]) \n",
            "         y: tensor([0, 1])\n"
          ]
        }
      ]
    },
    {
      "cell_type": "markdown",
      "source": [
        "This results in two different sets of batches.\n",
        "\n",
        "In the first epoch, the first batch contains a pair of values\n",
        "[y=1, y=2], and the second batch contains a pair of values [y=3, y=0].\n",
        "\n",
        "In the second epoch, two\n",
        "batches contain a pair of values, [y=2, y=0] and [y=1, y=3] respectively.\n",
        "\n",
        "For each iteration, the\n",
        "elements within a batch are also shuffled."
      ],
      "metadata": {
        "id": "FVmSERvTL2Ad"
      }
    },
    {
      "cell_type": "markdown",
      "metadata": {
        "id": "msJr0fZS874i"
      },
      "source": [
        "---\n",
        "\n"
      ]
    }
  ],
  "metadata": {
    "kernelspec": {
      "display_name": "Python 3 (ipykernel)",
      "language": "python",
      "name": "python3"
    },
    "language_info": {
      "codemirror_mode": {
        "name": "ipython",
        "version": 3
      },
      "file_extension": ".py",
      "mimetype": "text/x-python",
      "name": "python",
      "nbconvert_exporter": "python",
      "pygments_lexer": "ipython3",
      "version": "3.9.7"
    },
    "toc-showmarkdowntxt": false,
    "toc-showtags": false,
    "colab": {
      "provenance": []
    }
  },
  "nbformat": 4,
  "nbformat_minor": 0
}